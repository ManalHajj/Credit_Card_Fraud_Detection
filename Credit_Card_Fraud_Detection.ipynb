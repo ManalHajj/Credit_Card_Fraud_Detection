{
  "nbformat": 4,
  "nbformat_minor": 0,
  "metadata": {
    "colab": {
      "provenance": [],
      "authorship_tag": "ABX9TyP6Bb3fmiEBO6XA4gAprCbF",
      "include_colab_link": true
    },
    "kernelspec": {
      "name": "python3",
      "display_name": "Python 3"
    },
    "language_info": {
      "name": "python"
    }
  },
  "cells": [
    {
      "cell_type": "markdown",
      "metadata": {
        "id": "view-in-github",
        "colab_type": "text"
      },
      "source": [
        "<a href=\"https://colab.research.google.com/github/ManalHajj/Credit_Card_Fraud_Detection/blob/main/Credit_Card_Fraud_Detection.ipynb\" target=\"_parent\"><img src=\"https://colab.research.google.com/assets/colab-badge.svg\" alt=\"Open In Colab\"/></a>"
      ]
    },
    {
      "cell_type": "code",
      "execution_count": 1,
      "metadata": {
        "id": "Y9p1Wf8BIOXr"
      },
      "outputs": [],
      "source": [
        "import numpy as np\n",
        "import pandas as pd \n",
        "from sklearn.model_selection import train_test_split\n",
        "from sklearn.linear_model import LogisticRegression\n",
        "from sklearn.metrics import accuracy_score"
      ]
    },
    {
      "cell_type": "code",
      "source": [
        "# loading our dataset to a Pandas dataframe\n",
        "credit_card_data = pd.read_csv('/content/creditcard.csv')"
      ],
      "metadata": {
        "id": "o4toq24yIUfE"
      },
      "execution_count": 18,
      "outputs": []
    },
    {
      "cell_type": "code",
      "source": [
        "credit_card_data.head()"
      ],
      "metadata": {
        "colab": {
          "base_uri": "https://localhost:8080/",
          "height": 299
        },
        "id": "CxIrEQsvIzn8",
        "outputId": "e89d04e5-d0ff-45db-a831-e6e75cbb86d1"
      },
      "execution_count": 19,
      "outputs": [
        {
          "output_type": "execute_result",
          "data": {
            "text/plain": [
              "   Time        V1        V2        V3        V4        V5        V6        V7  \\\n",
              "0     0 -1.359807 -0.072781  2.536347  1.378155 -0.338321  0.462388  0.239599   \n",
              "1     0  1.191857  0.266151  0.166480  0.448154  0.060018 -0.082361 -0.078803   \n",
              "2     1 -1.358354 -1.340163  1.773209  0.379780 -0.503198  1.800499  0.791461   \n",
              "3     1 -0.966272 -0.185226  1.792993 -0.863291 -0.010309  1.247203  0.237609   \n",
              "4     2 -1.158233  0.877737  1.548718  0.403034 -0.407193  0.095921  0.592941   \n",
              "\n",
              "         V8        V9  ...       V21       V22       V23       V24       V25  \\\n",
              "0  0.098698  0.363787  ... -0.018307  0.277838 -0.110474  0.066928  0.128539   \n",
              "1  0.085102 -0.255425  ... -0.225775 -0.638672  0.101288 -0.339846  0.167170   \n",
              "2  0.247676 -1.514654  ...  0.247998  0.771679  0.909412 -0.689281 -0.327642   \n",
              "3  0.377436 -1.387024  ... -0.108300  0.005274 -0.190321 -1.175575  0.647376   \n",
              "4 -0.270533  0.817739  ... -0.009431  0.798278 -0.137458  0.141267 -0.206010   \n",
              "\n",
              "        V26       V27       V28  Amount  Class  \n",
              "0 -0.189115  0.133558 -0.021053  149.62    0.0  \n",
              "1  0.125895 -0.008983  0.014724    2.69    0.0  \n",
              "2 -0.139097 -0.055353 -0.059752  378.66    0.0  \n",
              "3 -0.221929  0.062723  0.061458  123.50    0.0  \n",
              "4  0.502292  0.219422  0.215153   69.99    0.0  \n",
              "\n",
              "[5 rows x 31 columns]"
            ],
            "text/html": [
              "\n",
              "  <div id=\"df-4bfb0828-c364-492c-9bc7-78a4375f0456\">\n",
              "    <div class=\"colab-df-container\">\n",
              "      <div>\n",
              "<style scoped>\n",
              "    .dataframe tbody tr th:only-of-type {\n",
              "        vertical-align: middle;\n",
              "    }\n",
              "\n",
              "    .dataframe tbody tr th {\n",
              "        vertical-align: top;\n",
              "    }\n",
              "\n",
              "    .dataframe thead th {\n",
              "        text-align: right;\n",
              "    }\n",
              "</style>\n",
              "<table border=\"1\" class=\"dataframe\">\n",
              "  <thead>\n",
              "    <tr style=\"text-align: right;\">\n",
              "      <th></th>\n",
              "      <th>Time</th>\n",
              "      <th>V1</th>\n",
              "      <th>V2</th>\n",
              "      <th>V3</th>\n",
              "      <th>V4</th>\n",
              "      <th>V5</th>\n",
              "      <th>V6</th>\n",
              "      <th>V7</th>\n",
              "      <th>V8</th>\n",
              "      <th>V9</th>\n",
              "      <th>...</th>\n",
              "      <th>V21</th>\n",
              "      <th>V22</th>\n",
              "      <th>V23</th>\n",
              "      <th>V24</th>\n",
              "      <th>V25</th>\n",
              "      <th>V26</th>\n",
              "      <th>V27</th>\n",
              "      <th>V28</th>\n",
              "      <th>Amount</th>\n",
              "      <th>Class</th>\n",
              "    </tr>\n",
              "  </thead>\n",
              "  <tbody>\n",
              "    <tr>\n",
              "      <th>0</th>\n",
              "      <td>0</td>\n",
              "      <td>-1.359807</td>\n",
              "      <td>-0.072781</td>\n",
              "      <td>2.536347</td>\n",
              "      <td>1.378155</td>\n",
              "      <td>-0.338321</td>\n",
              "      <td>0.462388</td>\n",
              "      <td>0.239599</td>\n",
              "      <td>0.098698</td>\n",
              "      <td>0.363787</td>\n",
              "      <td>...</td>\n",
              "      <td>-0.018307</td>\n",
              "      <td>0.277838</td>\n",
              "      <td>-0.110474</td>\n",
              "      <td>0.066928</td>\n",
              "      <td>0.128539</td>\n",
              "      <td>-0.189115</td>\n",
              "      <td>0.133558</td>\n",
              "      <td>-0.021053</td>\n",
              "      <td>149.62</td>\n",
              "      <td>0.0</td>\n",
              "    </tr>\n",
              "    <tr>\n",
              "      <th>1</th>\n",
              "      <td>0</td>\n",
              "      <td>1.191857</td>\n",
              "      <td>0.266151</td>\n",
              "      <td>0.166480</td>\n",
              "      <td>0.448154</td>\n",
              "      <td>0.060018</td>\n",
              "      <td>-0.082361</td>\n",
              "      <td>-0.078803</td>\n",
              "      <td>0.085102</td>\n",
              "      <td>-0.255425</td>\n",
              "      <td>...</td>\n",
              "      <td>-0.225775</td>\n",
              "      <td>-0.638672</td>\n",
              "      <td>0.101288</td>\n",
              "      <td>-0.339846</td>\n",
              "      <td>0.167170</td>\n",
              "      <td>0.125895</td>\n",
              "      <td>-0.008983</td>\n",
              "      <td>0.014724</td>\n",
              "      <td>2.69</td>\n",
              "      <td>0.0</td>\n",
              "    </tr>\n",
              "    <tr>\n",
              "      <th>2</th>\n",
              "      <td>1</td>\n",
              "      <td>-1.358354</td>\n",
              "      <td>-1.340163</td>\n",
              "      <td>1.773209</td>\n",
              "      <td>0.379780</td>\n",
              "      <td>-0.503198</td>\n",
              "      <td>1.800499</td>\n",
              "      <td>0.791461</td>\n",
              "      <td>0.247676</td>\n",
              "      <td>-1.514654</td>\n",
              "      <td>...</td>\n",
              "      <td>0.247998</td>\n",
              "      <td>0.771679</td>\n",
              "      <td>0.909412</td>\n",
              "      <td>-0.689281</td>\n",
              "      <td>-0.327642</td>\n",
              "      <td>-0.139097</td>\n",
              "      <td>-0.055353</td>\n",
              "      <td>-0.059752</td>\n",
              "      <td>378.66</td>\n",
              "      <td>0.0</td>\n",
              "    </tr>\n",
              "    <tr>\n",
              "      <th>3</th>\n",
              "      <td>1</td>\n",
              "      <td>-0.966272</td>\n",
              "      <td>-0.185226</td>\n",
              "      <td>1.792993</td>\n",
              "      <td>-0.863291</td>\n",
              "      <td>-0.010309</td>\n",
              "      <td>1.247203</td>\n",
              "      <td>0.237609</td>\n",
              "      <td>0.377436</td>\n",
              "      <td>-1.387024</td>\n",
              "      <td>...</td>\n",
              "      <td>-0.108300</td>\n",
              "      <td>0.005274</td>\n",
              "      <td>-0.190321</td>\n",
              "      <td>-1.175575</td>\n",
              "      <td>0.647376</td>\n",
              "      <td>-0.221929</td>\n",
              "      <td>0.062723</td>\n",
              "      <td>0.061458</td>\n",
              "      <td>123.50</td>\n",
              "      <td>0.0</td>\n",
              "    </tr>\n",
              "    <tr>\n",
              "      <th>4</th>\n",
              "      <td>2</td>\n",
              "      <td>-1.158233</td>\n",
              "      <td>0.877737</td>\n",
              "      <td>1.548718</td>\n",
              "      <td>0.403034</td>\n",
              "      <td>-0.407193</td>\n",
              "      <td>0.095921</td>\n",
              "      <td>0.592941</td>\n",
              "      <td>-0.270533</td>\n",
              "      <td>0.817739</td>\n",
              "      <td>...</td>\n",
              "      <td>-0.009431</td>\n",
              "      <td>0.798278</td>\n",
              "      <td>-0.137458</td>\n",
              "      <td>0.141267</td>\n",
              "      <td>-0.206010</td>\n",
              "      <td>0.502292</td>\n",
              "      <td>0.219422</td>\n",
              "      <td>0.215153</td>\n",
              "      <td>69.99</td>\n",
              "      <td>0.0</td>\n",
              "    </tr>\n",
              "  </tbody>\n",
              "</table>\n",
              "<p>5 rows × 31 columns</p>\n",
              "</div>\n",
              "      <button class=\"colab-df-convert\" onclick=\"convertToInteractive('df-4bfb0828-c364-492c-9bc7-78a4375f0456')\"\n",
              "              title=\"Convert this dataframe to an interactive table.\"\n",
              "              style=\"display:none;\">\n",
              "        \n",
              "  <svg xmlns=\"http://www.w3.org/2000/svg\" height=\"24px\"viewBox=\"0 0 24 24\"\n",
              "       width=\"24px\">\n",
              "    <path d=\"M0 0h24v24H0V0z\" fill=\"none\"/>\n",
              "    <path d=\"M18.56 5.44l.94 2.06.94-2.06 2.06-.94-2.06-.94-.94-2.06-.94 2.06-2.06.94zm-11 1L8.5 8.5l.94-2.06 2.06-.94-2.06-.94L8.5 2.5l-.94 2.06-2.06.94zm10 10l.94 2.06.94-2.06 2.06-.94-2.06-.94-.94-2.06-.94 2.06-2.06.94z\"/><path d=\"M17.41 7.96l-1.37-1.37c-.4-.4-.92-.59-1.43-.59-.52 0-1.04.2-1.43.59L10.3 9.45l-7.72 7.72c-.78.78-.78 2.05 0 2.83L4 21.41c.39.39.9.59 1.41.59.51 0 1.02-.2 1.41-.59l7.78-7.78 2.81-2.81c.8-.78.8-2.07 0-2.86zM5.41 20L4 18.59l7.72-7.72 1.47 1.35L5.41 20z\"/>\n",
              "  </svg>\n",
              "      </button>\n",
              "      \n",
              "  <style>\n",
              "    .colab-df-container {\n",
              "      display:flex;\n",
              "      flex-wrap:wrap;\n",
              "      gap: 12px;\n",
              "    }\n",
              "\n",
              "    .colab-df-convert {\n",
              "      background-color: #E8F0FE;\n",
              "      border: none;\n",
              "      border-radius: 50%;\n",
              "      cursor: pointer;\n",
              "      display: none;\n",
              "      fill: #1967D2;\n",
              "      height: 32px;\n",
              "      padding: 0 0 0 0;\n",
              "      width: 32px;\n",
              "    }\n",
              "\n",
              "    .colab-df-convert:hover {\n",
              "      background-color: #E2EBFA;\n",
              "      box-shadow: 0px 1px 2px rgba(60, 64, 67, 0.3), 0px 1px 3px 1px rgba(60, 64, 67, 0.15);\n",
              "      fill: #174EA6;\n",
              "    }\n",
              "\n",
              "    [theme=dark] .colab-df-convert {\n",
              "      background-color: #3B4455;\n",
              "      fill: #D2E3FC;\n",
              "    }\n",
              "\n",
              "    [theme=dark] .colab-df-convert:hover {\n",
              "      background-color: #434B5C;\n",
              "      box-shadow: 0px 1px 3px 1px rgba(0, 0, 0, 0.15);\n",
              "      filter: drop-shadow(0px 1px 2px rgba(0, 0, 0, 0.3));\n",
              "      fill: #FFFFFF;\n",
              "    }\n",
              "  </style>\n",
              "\n",
              "      <script>\n",
              "        const buttonEl =\n",
              "          document.querySelector('#df-4bfb0828-c364-492c-9bc7-78a4375f0456 button.colab-df-convert');\n",
              "        buttonEl.style.display =\n",
              "          google.colab.kernel.accessAllowed ? 'block' : 'none';\n",
              "\n",
              "        async function convertToInteractive(key) {\n",
              "          const element = document.querySelector('#df-4bfb0828-c364-492c-9bc7-78a4375f0456');\n",
              "          const dataTable =\n",
              "            await google.colab.kernel.invokeFunction('convertToInteractive',\n",
              "                                                     [key], {});\n",
              "          if (!dataTable) return;\n",
              "\n",
              "          const docLinkHtml = 'Like what you see? Visit the ' +\n",
              "            '<a target=\"_blank\" href=https://colab.research.google.com/notebooks/data_table.ipynb>data table notebook</a>'\n",
              "            + ' to learn more about interactive tables.';\n",
              "          element.innerHTML = '';\n",
              "          dataTable['output_type'] = 'display_data';\n",
              "          await google.colab.output.renderOutput(dataTable, element);\n",
              "          const docLink = document.createElement('div');\n",
              "          docLink.innerHTML = docLinkHtml;\n",
              "          element.appendChild(docLink);\n",
              "        }\n",
              "      </script>\n",
              "    </div>\n",
              "  </div>\n",
              "  "
            ]
          },
          "metadata": {},
          "execution_count": 19
        }
      ]
    },
    {
      "cell_type": "markdown",
      "source": [
        "Null values sum"
      ],
      "metadata": {
        "id": "hclLR7J2TTZf"
      }
    },
    {
      "cell_type": "code",
      "source": [
        "credit_card_data.isnull().sum()"
      ],
      "metadata": {
        "colab": {
          "base_uri": "https://localhost:8080/"
        },
        "id": "P4UxhygGI2jv",
        "outputId": "23cc4d92-567f-4588-a94d-0caca6a1741d"
      },
      "execution_count": 20,
      "outputs": [
        {
          "output_type": "execute_result",
          "data": {
            "text/plain": [
              "Time      0\n",
              "V1        0\n",
              "V2        0\n",
              "V3        0\n",
              "V4        0\n",
              "V5        0\n",
              "V6        0\n",
              "V7        1\n",
              "V8        1\n",
              "V9        1\n",
              "V10       1\n",
              "V11       1\n",
              "V12       1\n",
              "V13       1\n",
              "V14       1\n",
              "V15       1\n",
              "V16       1\n",
              "V17       1\n",
              "V18       1\n",
              "V19       1\n",
              "V20       1\n",
              "V21       1\n",
              "V22       1\n",
              "V23       1\n",
              "V24       1\n",
              "V25       1\n",
              "V26       1\n",
              "V27       1\n",
              "V28       1\n",
              "Amount    1\n",
              "Class     1\n",
              "dtype: int64"
            ]
          },
          "metadata": {},
          "execution_count": 20
        }
      ]
    },
    {
      "cell_type": "code",
      "source": [
        "credit_card_data.info()"
      ],
      "metadata": {
        "colab": {
          "base_uri": "https://localhost:8080/"
        },
        "id": "PqagZQgiI6jN",
        "outputId": "8a3f589e-194a-43d7-ad3c-64839e4de846"
      },
      "execution_count": 21,
      "outputs": [
        {
          "output_type": "stream",
          "name": "stdout",
          "text": [
            "<class 'pandas.core.frame.DataFrame'>\n",
            "RangeIndex: 31780 entries, 0 to 31779\n",
            "Data columns (total 31 columns):\n",
            " #   Column  Non-Null Count  Dtype  \n",
            "---  ------  --------------  -----  \n",
            " 0   Time    31780 non-null  int64  \n",
            " 1   V1      31780 non-null  float64\n",
            " 2   V2      31780 non-null  float64\n",
            " 3   V3      31780 non-null  float64\n",
            " 4   V4      31780 non-null  float64\n",
            " 5   V5      31780 non-null  float64\n",
            " 6   V6      31780 non-null  float64\n",
            " 7   V7      31779 non-null  float64\n",
            " 8   V8      31779 non-null  float64\n",
            " 9   V9      31779 non-null  float64\n",
            " 10  V10     31779 non-null  float64\n",
            " 11  V11     31779 non-null  float64\n",
            " 12  V12     31779 non-null  float64\n",
            " 13  V13     31779 non-null  float64\n",
            " 14  V14     31779 non-null  float64\n",
            " 15  V15     31779 non-null  float64\n",
            " 16  V16     31779 non-null  float64\n",
            " 17  V17     31779 non-null  float64\n",
            " 18  V18     31779 non-null  float64\n",
            " 19  V19     31779 non-null  float64\n",
            " 20  V20     31779 non-null  float64\n",
            " 21  V21     31779 non-null  float64\n",
            " 22  V22     31779 non-null  float64\n",
            " 23  V23     31779 non-null  float64\n",
            " 24  V24     31779 non-null  float64\n",
            " 25  V25     31779 non-null  float64\n",
            " 26  V26     31779 non-null  float64\n",
            " 27  V27     31779 non-null  float64\n",
            " 28  V28     31779 non-null  float64\n",
            " 29  Amount  31779 non-null  float64\n",
            " 30  Class   31779 non-null  float64\n",
            "dtypes: float64(30), int64(1)\n",
            "memory usage: 7.5 MB\n"
          ]
        }
      ]
    },
    {
      "cell_type": "markdown",
      "source": [
        " Find the row with missing values"
      ],
      "metadata": {
        "id": "TKxe4rM5Tat-"
      }
    },
    {
      "cell_type": "code",
      "source": [
        "credit_card_data[credit_card_data.isnull().any(1)]\n"
      ],
      "metadata": {
        "colab": {
          "base_uri": "https://localhost:8080/",
          "height": 110
        },
        "id": "Bku3s_b-JBbh",
        "outputId": "9f8950db-b231-4866-a03f-65b29314aa1f"
      },
      "execution_count": 22,
      "outputs": [
        {
          "output_type": "execute_result",
          "data": {
            "text/plain": [
              "        Time        V1        V2        V3        V4      V5       V6  V7  V8  \\\n",
              "31779  36513  1.295137  0.096775  0.348134  0.629896 -0.1727 -0.15435 NaN NaN   \n",
              "\n",
              "       V9  ...  V21  V22  V23  V24  V25  V26  V27  V28  Amount  Class  \n",
              "31779 NaN  ...  NaN  NaN  NaN  NaN  NaN  NaN  NaN  NaN     NaN    NaN  \n",
              "\n",
              "[1 rows x 31 columns]"
            ],
            "text/html": [
              "\n",
              "  <div id=\"df-a35f8487-a7a2-4ac8-aac9-ef37a3314c74\">\n",
              "    <div class=\"colab-df-container\">\n",
              "      <div>\n",
              "<style scoped>\n",
              "    .dataframe tbody tr th:only-of-type {\n",
              "        vertical-align: middle;\n",
              "    }\n",
              "\n",
              "    .dataframe tbody tr th {\n",
              "        vertical-align: top;\n",
              "    }\n",
              "\n",
              "    .dataframe thead th {\n",
              "        text-align: right;\n",
              "    }\n",
              "</style>\n",
              "<table border=\"1\" class=\"dataframe\">\n",
              "  <thead>\n",
              "    <tr style=\"text-align: right;\">\n",
              "      <th></th>\n",
              "      <th>Time</th>\n",
              "      <th>V1</th>\n",
              "      <th>V2</th>\n",
              "      <th>V3</th>\n",
              "      <th>V4</th>\n",
              "      <th>V5</th>\n",
              "      <th>V6</th>\n",
              "      <th>V7</th>\n",
              "      <th>V8</th>\n",
              "      <th>V9</th>\n",
              "      <th>...</th>\n",
              "      <th>V21</th>\n",
              "      <th>V22</th>\n",
              "      <th>V23</th>\n",
              "      <th>V24</th>\n",
              "      <th>V25</th>\n",
              "      <th>V26</th>\n",
              "      <th>V27</th>\n",
              "      <th>V28</th>\n",
              "      <th>Amount</th>\n",
              "      <th>Class</th>\n",
              "    </tr>\n",
              "  </thead>\n",
              "  <tbody>\n",
              "    <tr>\n",
              "      <th>31779</th>\n",
              "      <td>36513</td>\n",
              "      <td>1.295137</td>\n",
              "      <td>0.096775</td>\n",
              "      <td>0.348134</td>\n",
              "      <td>0.629896</td>\n",
              "      <td>-0.1727</td>\n",
              "      <td>-0.15435</td>\n",
              "      <td>NaN</td>\n",
              "      <td>NaN</td>\n",
              "      <td>NaN</td>\n",
              "      <td>...</td>\n",
              "      <td>NaN</td>\n",
              "      <td>NaN</td>\n",
              "      <td>NaN</td>\n",
              "      <td>NaN</td>\n",
              "      <td>NaN</td>\n",
              "      <td>NaN</td>\n",
              "      <td>NaN</td>\n",
              "      <td>NaN</td>\n",
              "      <td>NaN</td>\n",
              "      <td>NaN</td>\n",
              "    </tr>\n",
              "  </tbody>\n",
              "</table>\n",
              "<p>1 rows × 31 columns</p>\n",
              "</div>\n",
              "      <button class=\"colab-df-convert\" onclick=\"convertToInteractive('df-a35f8487-a7a2-4ac8-aac9-ef37a3314c74')\"\n",
              "              title=\"Convert this dataframe to an interactive table.\"\n",
              "              style=\"display:none;\">\n",
              "        \n",
              "  <svg xmlns=\"http://www.w3.org/2000/svg\" height=\"24px\"viewBox=\"0 0 24 24\"\n",
              "       width=\"24px\">\n",
              "    <path d=\"M0 0h24v24H0V0z\" fill=\"none\"/>\n",
              "    <path d=\"M18.56 5.44l.94 2.06.94-2.06 2.06-.94-2.06-.94-.94-2.06-.94 2.06-2.06.94zm-11 1L8.5 8.5l.94-2.06 2.06-.94-2.06-.94L8.5 2.5l-.94 2.06-2.06.94zm10 10l.94 2.06.94-2.06 2.06-.94-2.06-.94-.94-2.06-.94 2.06-2.06.94z\"/><path d=\"M17.41 7.96l-1.37-1.37c-.4-.4-.92-.59-1.43-.59-.52 0-1.04.2-1.43.59L10.3 9.45l-7.72 7.72c-.78.78-.78 2.05 0 2.83L4 21.41c.39.39.9.59 1.41.59.51 0 1.02-.2 1.41-.59l7.78-7.78 2.81-2.81c.8-.78.8-2.07 0-2.86zM5.41 20L4 18.59l7.72-7.72 1.47 1.35L5.41 20z\"/>\n",
              "  </svg>\n",
              "      </button>\n",
              "      \n",
              "  <style>\n",
              "    .colab-df-container {\n",
              "      display:flex;\n",
              "      flex-wrap:wrap;\n",
              "      gap: 12px;\n",
              "    }\n",
              "\n",
              "    .colab-df-convert {\n",
              "      background-color: #E8F0FE;\n",
              "      border: none;\n",
              "      border-radius: 50%;\n",
              "      cursor: pointer;\n",
              "      display: none;\n",
              "      fill: #1967D2;\n",
              "      height: 32px;\n",
              "      padding: 0 0 0 0;\n",
              "      width: 32px;\n",
              "    }\n",
              "\n",
              "    .colab-df-convert:hover {\n",
              "      background-color: #E2EBFA;\n",
              "      box-shadow: 0px 1px 2px rgba(60, 64, 67, 0.3), 0px 1px 3px 1px rgba(60, 64, 67, 0.15);\n",
              "      fill: #174EA6;\n",
              "    }\n",
              "\n",
              "    [theme=dark] .colab-df-convert {\n",
              "      background-color: #3B4455;\n",
              "      fill: #D2E3FC;\n",
              "    }\n",
              "\n",
              "    [theme=dark] .colab-df-convert:hover {\n",
              "      background-color: #434B5C;\n",
              "      box-shadow: 0px 1px 3px 1px rgba(0, 0, 0, 0.15);\n",
              "      filter: drop-shadow(0px 1px 2px rgba(0, 0, 0, 0.3));\n",
              "      fill: #FFFFFF;\n",
              "    }\n",
              "  </style>\n",
              "\n",
              "      <script>\n",
              "        const buttonEl =\n",
              "          document.querySelector('#df-a35f8487-a7a2-4ac8-aac9-ef37a3314c74 button.colab-df-convert');\n",
              "        buttonEl.style.display =\n",
              "          google.colab.kernel.accessAllowed ? 'block' : 'none';\n",
              "\n",
              "        async function convertToInteractive(key) {\n",
              "          const element = document.querySelector('#df-a35f8487-a7a2-4ac8-aac9-ef37a3314c74');\n",
              "          const dataTable =\n",
              "            await google.colab.kernel.invokeFunction('convertToInteractive',\n",
              "                                                     [key], {});\n",
              "          if (!dataTable) return;\n",
              "\n",
              "          const docLinkHtml = 'Like what you see? Visit the ' +\n",
              "            '<a target=\"_blank\" href=https://colab.research.google.com/notebooks/data_table.ipynb>data table notebook</a>'\n",
              "            + ' to learn more about interactive tables.';\n",
              "          element.innerHTML = '';\n",
              "          dataTable['output_type'] = 'display_data';\n",
              "          await google.colab.output.renderOutput(dataTable, element);\n",
              "          const docLink = document.createElement('div');\n",
              "          docLink.innerHTML = docLinkHtml;\n",
              "          element.appendChild(docLink);\n",
              "        }\n",
              "      </script>\n",
              "    </div>\n",
              "  </div>\n",
              "  "
            ]
          },
          "metadata": {},
          "execution_count": 22
        }
      ]
    },
    {
      "cell_type": "markdown",
      "source": [
        "Delete the row with missing values"
      ],
      "metadata": {
        "id": "mD1a_STGTiL8"
      }
    },
    {
      "cell_type": "code",
      "source": [
        "mod_df = credit_card_data.dropna()"
      ],
      "metadata": {
        "id": "rEbQvT3uJFBt"
      },
      "execution_count": 23,
      "outputs": []
    },
    {
      "cell_type": "code",
      "source": [
        "mod_df.info()"
      ],
      "metadata": {
        "colab": {
          "base_uri": "https://localhost:8080/"
        },
        "id": "ofz2J2RBJGuZ",
        "outputId": "d7a44328-f01b-4a6e-8be3-150d1a46d0d8"
      },
      "execution_count": 24,
      "outputs": [
        {
          "output_type": "stream",
          "name": "stdout",
          "text": [
            "<class 'pandas.core.frame.DataFrame'>\n",
            "Int64Index: 31779 entries, 0 to 31778\n",
            "Data columns (total 31 columns):\n",
            " #   Column  Non-Null Count  Dtype  \n",
            "---  ------  --------------  -----  \n",
            " 0   Time    31779 non-null  int64  \n",
            " 1   V1      31779 non-null  float64\n",
            " 2   V2      31779 non-null  float64\n",
            " 3   V3      31779 non-null  float64\n",
            " 4   V4      31779 non-null  float64\n",
            " 5   V5      31779 non-null  float64\n",
            " 6   V6      31779 non-null  float64\n",
            " 7   V7      31779 non-null  float64\n",
            " 8   V8      31779 non-null  float64\n",
            " 9   V9      31779 non-null  float64\n",
            " 10  V10     31779 non-null  float64\n",
            " 11  V11     31779 non-null  float64\n",
            " 12  V12     31779 non-null  float64\n",
            " 13  V13     31779 non-null  float64\n",
            " 14  V14     31779 non-null  float64\n",
            " 15  V15     31779 non-null  float64\n",
            " 16  V16     31779 non-null  float64\n",
            " 17  V17     31779 non-null  float64\n",
            " 18  V18     31779 non-null  float64\n",
            " 19  V19     31779 non-null  float64\n",
            " 20  V20     31779 non-null  float64\n",
            " 21  V21     31779 non-null  float64\n",
            " 22  V22     31779 non-null  float64\n",
            " 23  V23     31779 non-null  float64\n",
            " 24  V24     31779 non-null  float64\n",
            " 25  V25     31779 non-null  float64\n",
            " 26  V26     31779 non-null  float64\n",
            " 27  V27     31779 non-null  float64\n",
            " 28  V28     31779 non-null  float64\n",
            " 29  Amount  31779 non-null  float64\n",
            " 30  Class   31779 non-null  float64\n",
            "dtypes: float64(30), int64(1)\n",
            "memory usage: 7.8 MB\n"
          ]
        }
      ]
    },
    {
      "cell_type": "code",
      "source": [
        "#number of legit and fraudulent transactions\n",
        "mod_df['Class'].value_counts()"
      ],
      "metadata": {
        "colab": {
          "base_uri": "https://localhost:8080/"
        },
        "id": "2JVD261yJJsl",
        "outputId": "2052e8ff-ab9c-4e88-fae1-5cad41c6e38b"
      },
      "execution_count": 25,
      "outputs": [
        {
          "output_type": "execute_result",
          "data": {
            "text/plain": [
              "0.0    31677\n",
              "1.0      102\n",
              "Name: Class, dtype: int64"
            ]
          },
          "metadata": {},
          "execution_count": 25
        }
      ]
    },
    {
      "cell_type": "code",
      "source": [
        "# seperating data for analysis\n",
        "legit = mod_df[mod_df.Class == 0]\n",
        "fraudulent = mod_df[mod_df.Class == 1]"
      ],
      "metadata": {
        "id": "pGX4ckX7JO8r"
      },
      "execution_count": 26,
      "outputs": []
    },
    {
      "cell_type": "code",
      "source": [
        "print(legit.shape)\n",
        "print(fraudulent.shape)"
      ],
      "metadata": {
        "colab": {
          "base_uri": "https://localhost:8080/"
        },
        "id": "wR6Np0r4JOvp",
        "outputId": "a529756e-41ea-4369-e538-e70bb46a5017"
      },
      "execution_count": 27,
      "outputs": [
        {
          "output_type": "stream",
          "name": "stdout",
          "text": [
            "(31677, 31)\n",
            "(102, 31)\n"
          ]
        }
      ]
    },
    {
      "cell_type": "code",
      "source": [
        "legit.Amount.describe()"
      ],
      "metadata": {
        "colab": {
          "base_uri": "https://localhost:8080/"
        },
        "id": "HY2-Z2rOKWAY",
        "outputId": "79d3d1f5-1129-4c88-b9af-ff1ece07c723"
      },
      "execution_count": 28,
      "outputs": [
        {
          "output_type": "execute_result",
          "data": {
            "text/plain": [
              "count    31677.000000\n",
              "mean        81.082407\n",
              "std        223.072655\n",
              "min          0.000000\n",
              "25%          6.870000\n",
              "50%         20.000000\n",
              "75%         73.610000\n",
              "max       7879.420000\n",
              "Name: Amount, dtype: float64"
            ]
          },
          "metadata": {},
          "execution_count": 28
        }
      ]
    },
    {
      "cell_type": "code",
      "source": [
        "fraudulent.Amount.describe()"
      ],
      "metadata": {
        "colab": {
          "base_uri": "https://localhost:8080/"
        },
        "id": "zd8axHF_KZVj",
        "outputId": "81ca17e0-61ce-4786-d09f-8a07620b713e"
      },
      "execution_count": 29,
      "outputs": [
        {
          "output_type": "execute_result",
          "data": {
            "text/plain": [
              "count     102.000000\n",
              "mean       91.237451\n",
              "std       248.270971\n",
              "min         0.000000\n",
              "25%         1.000000\n",
              "50%         3.440000\n",
              "75%        99.990000\n",
              "max      1809.680000\n",
              "Name: Amount, dtype: float64"
            ]
          },
          "metadata": {},
          "execution_count": 29
        }
      ]
    },
    {
      "cell_type": "code",
      "source": [
        "# comparing\n",
        "mod_df.groupby('Class').mean()"
      ],
      "metadata": {
        "colab": {
          "base_uri": "https://localhost:8080/",
          "height": 237
        },
        "id": "0Qe8GU2XKbO9",
        "outputId": "166621b8-fc1c-4242-fad8-2123fd6ce785"
      },
      "execution_count": 30,
      "outputs": [
        {
          "output_type": "execute_result",
          "data": {
            "text/plain": [
              "               Time        V1        V2         V3        V4        V5  \\\n",
              "Class                                                                    \n",
              "0.0    22335.407141 -0.188381  0.085855   0.759238  0.192821 -0.192581   \n",
              "1.0    20334.872549 -7.761095  5.946853 -11.035230  5.926171 -5.529543   \n",
              "\n",
              "             V6        V7        V8        V9  ...       V20      V21  \\\n",
              "Class                                          ...                      \n",
              "0.0    0.095930 -0.095538  0.019413  0.324683  ...  0.041991 -0.03532   \n",
              "1.0   -2.295415 -7.767215  3.904551 -2.997290  ...  0.679987  0.64190   \n",
              "\n",
              "            V22       V23       V24       V25       V26       V27       V28  \\\n",
              "Class                                                                         \n",
              "0.0   -0.118406 -0.039544  0.009212  0.133785  0.022140  0.010340  0.003013   \n",
              "1.0   -0.352131 -0.317568 -0.241053  0.314412  0.177056  0.811372  0.118708   \n",
              "\n",
              "          Amount  \n",
              "Class             \n",
              "0.0    81.082407  \n",
              "1.0    91.237451  \n",
              "\n",
              "[2 rows x 30 columns]"
            ],
            "text/html": [
              "\n",
              "  <div id=\"df-11143bd7-9fc3-4023-b0ac-dec54b58393e\">\n",
              "    <div class=\"colab-df-container\">\n",
              "      <div>\n",
              "<style scoped>\n",
              "    .dataframe tbody tr th:only-of-type {\n",
              "        vertical-align: middle;\n",
              "    }\n",
              "\n",
              "    .dataframe tbody tr th {\n",
              "        vertical-align: top;\n",
              "    }\n",
              "\n",
              "    .dataframe thead th {\n",
              "        text-align: right;\n",
              "    }\n",
              "</style>\n",
              "<table border=\"1\" class=\"dataframe\">\n",
              "  <thead>\n",
              "    <tr style=\"text-align: right;\">\n",
              "      <th></th>\n",
              "      <th>Time</th>\n",
              "      <th>V1</th>\n",
              "      <th>V2</th>\n",
              "      <th>V3</th>\n",
              "      <th>V4</th>\n",
              "      <th>V5</th>\n",
              "      <th>V6</th>\n",
              "      <th>V7</th>\n",
              "      <th>V8</th>\n",
              "      <th>V9</th>\n",
              "      <th>...</th>\n",
              "      <th>V20</th>\n",
              "      <th>V21</th>\n",
              "      <th>V22</th>\n",
              "      <th>V23</th>\n",
              "      <th>V24</th>\n",
              "      <th>V25</th>\n",
              "      <th>V26</th>\n",
              "      <th>V27</th>\n",
              "      <th>V28</th>\n",
              "      <th>Amount</th>\n",
              "    </tr>\n",
              "    <tr>\n",
              "      <th>Class</th>\n",
              "      <th></th>\n",
              "      <th></th>\n",
              "      <th></th>\n",
              "      <th></th>\n",
              "      <th></th>\n",
              "      <th></th>\n",
              "      <th></th>\n",
              "      <th></th>\n",
              "      <th></th>\n",
              "      <th></th>\n",
              "      <th></th>\n",
              "      <th></th>\n",
              "      <th></th>\n",
              "      <th></th>\n",
              "      <th></th>\n",
              "      <th></th>\n",
              "      <th></th>\n",
              "      <th></th>\n",
              "      <th></th>\n",
              "      <th></th>\n",
              "      <th></th>\n",
              "    </tr>\n",
              "  </thead>\n",
              "  <tbody>\n",
              "    <tr>\n",
              "      <th>0.0</th>\n",
              "      <td>22335.407141</td>\n",
              "      <td>-0.188381</td>\n",
              "      <td>0.085855</td>\n",
              "      <td>0.759238</td>\n",
              "      <td>0.192821</td>\n",
              "      <td>-0.192581</td>\n",
              "      <td>0.095930</td>\n",
              "      <td>-0.095538</td>\n",
              "      <td>0.019413</td>\n",
              "      <td>0.324683</td>\n",
              "      <td>...</td>\n",
              "      <td>0.041991</td>\n",
              "      <td>-0.03532</td>\n",
              "      <td>-0.118406</td>\n",
              "      <td>-0.039544</td>\n",
              "      <td>0.009212</td>\n",
              "      <td>0.133785</td>\n",
              "      <td>0.022140</td>\n",
              "      <td>0.010340</td>\n",
              "      <td>0.003013</td>\n",
              "      <td>81.082407</td>\n",
              "    </tr>\n",
              "    <tr>\n",
              "      <th>1.0</th>\n",
              "      <td>20334.872549</td>\n",
              "      <td>-7.761095</td>\n",
              "      <td>5.946853</td>\n",
              "      <td>-11.035230</td>\n",
              "      <td>5.926171</td>\n",
              "      <td>-5.529543</td>\n",
              "      <td>-2.295415</td>\n",
              "      <td>-7.767215</td>\n",
              "      <td>3.904551</td>\n",
              "      <td>-2.997290</td>\n",
              "      <td>...</td>\n",
              "      <td>0.679987</td>\n",
              "      <td>0.64190</td>\n",
              "      <td>-0.352131</td>\n",
              "      <td>-0.317568</td>\n",
              "      <td>-0.241053</td>\n",
              "      <td>0.314412</td>\n",
              "      <td>0.177056</td>\n",
              "      <td>0.811372</td>\n",
              "      <td>0.118708</td>\n",
              "      <td>91.237451</td>\n",
              "    </tr>\n",
              "  </tbody>\n",
              "</table>\n",
              "<p>2 rows × 30 columns</p>\n",
              "</div>\n",
              "      <button class=\"colab-df-convert\" onclick=\"convertToInteractive('df-11143bd7-9fc3-4023-b0ac-dec54b58393e')\"\n",
              "              title=\"Convert this dataframe to an interactive table.\"\n",
              "              style=\"display:none;\">\n",
              "        \n",
              "  <svg xmlns=\"http://www.w3.org/2000/svg\" height=\"24px\"viewBox=\"0 0 24 24\"\n",
              "       width=\"24px\">\n",
              "    <path d=\"M0 0h24v24H0V0z\" fill=\"none\"/>\n",
              "    <path d=\"M18.56 5.44l.94 2.06.94-2.06 2.06-.94-2.06-.94-.94-2.06-.94 2.06-2.06.94zm-11 1L8.5 8.5l.94-2.06 2.06-.94-2.06-.94L8.5 2.5l-.94 2.06-2.06.94zm10 10l.94 2.06.94-2.06 2.06-.94-2.06-.94-.94-2.06-.94 2.06-2.06.94z\"/><path d=\"M17.41 7.96l-1.37-1.37c-.4-.4-.92-.59-1.43-.59-.52 0-1.04.2-1.43.59L10.3 9.45l-7.72 7.72c-.78.78-.78 2.05 0 2.83L4 21.41c.39.39.9.59 1.41.59.51 0 1.02-.2 1.41-.59l7.78-7.78 2.81-2.81c.8-.78.8-2.07 0-2.86zM5.41 20L4 18.59l7.72-7.72 1.47 1.35L5.41 20z\"/>\n",
              "  </svg>\n",
              "      </button>\n",
              "      \n",
              "  <style>\n",
              "    .colab-df-container {\n",
              "      display:flex;\n",
              "      flex-wrap:wrap;\n",
              "      gap: 12px;\n",
              "    }\n",
              "\n",
              "    .colab-df-convert {\n",
              "      background-color: #E8F0FE;\n",
              "      border: none;\n",
              "      border-radius: 50%;\n",
              "      cursor: pointer;\n",
              "      display: none;\n",
              "      fill: #1967D2;\n",
              "      height: 32px;\n",
              "      padding: 0 0 0 0;\n",
              "      width: 32px;\n",
              "    }\n",
              "\n",
              "    .colab-df-convert:hover {\n",
              "      background-color: #E2EBFA;\n",
              "      box-shadow: 0px 1px 2px rgba(60, 64, 67, 0.3), 0px 1px 3px 1px rgba(60, 64, 67, 0.15);\n",
              "      fill: #174EA6;\n",
              "    }\n",
              "\n",
              "    [theme=dark] .colab-df-convert {\n",
              "      background-color: #3B4455;\n",
              "      fill: #D2E3FC;\n",
              "    }\n",
              "\n",
              "    [theme=dark] .colab-df-convert:hover {\n",
              "      background-color: #434B5C;\n",
              "      box-shadow: 0px 1px 3px 1px rgba(0, 0, 0, 0.15);\n",
              "      filter: drop-shadow(0px 1px 2px rgba(0, 0, 0, 0.3));\n",
              "      fill: #FFFFFF;\n",
              "    }\n",
              "  </style>\n",
              "\n",
              "      <script>\n",
              "        const buttonEl =\n",
              "          document.querySelector('#df-11143bd7-9fc3-4023-b0ac-dec54b58393e button.colab-df-convert');\n",
              "        buttonEl.style.display =\n",
              "          google.colab.kernel.accessAllowed ? 'block' : 'none';\n",
              "\n",
              "        async function convertToInteractive(key) {\n",
              "          const element = document.querySelector('#df-11143bd7-9fc3-4023-b0ac-dec54b58393e');\n",
              "          const dataTable =\n",
              "            await google.colab.kernel.invokeFunction('convertToInteractive',\n",
              "                                                     [key], {});\n",
              "          if (!dataTable) return;\n",
              "\n",
              "          const docLinkHtml = 'Like what you see? Visit the ' +\n",
              "            '<a target=\"_blank\" href=https://colab.research.google.com/notebooks/data_table.ipynb>data table notebook</a>'\n",
              "            + ' to learn more about interactive tables.';\n",
              "          element.innerHTML = '';\n",
              "          dataTable['output_type'] = 'display_data';\n",
              "          await google.colab.output.renderOutput(dataTable, element);\n",
              "          const docLink = document.createElement('div');\n",
              "          docLink.innerHTML = docLinkHtml;\n",
              "          element.appendChild(docLink);\n",
              "        }\n",
              "      </script>\n",
              "    </div>\n",
              "  </div>\n",
              "  "
            ]
          },
          "metadata": {},
          "execution_count": 30
        }
      ]
    },
    {
      "cell_type": "markdown",
      "source": [
        "To deal with the high unbalance and make the ditribution even we're going to build a sample dataset containing each 102 fraudulent and legit transactions"
      ],
      "metadata": {
        "id": "9aedNcQ1KixU"
      }
    },
    {
      "cell_type": "code",
      "source": [
        "legit_sample = legit.sample(n=102)"
      ],
      "metadata": {
        "id": "m6XHXM1EKd_X"
      },
      "execution_count": 112,
      "outputs": []
    },
    {
      "cell_type": "code",
      "source": [
        "new_df = pd.concat([legit_sample,fraudulent],axis=0)\n",
        "#axis 0 means rows"
      ],
      "metadata": {
        "id": "ktOzFS0eKlKT"
      },
      "execution_count": 113,
      "outputs": []
    },
    {
      "cell_type": "code",
      "source": [
        "new_df.head()"
      ],
      "metadata": {
        "colab": {
          "base_uri": "https://localhost:8080/",
          "height": 299
        },
        "id": "YO9zatE6KsHE",
        "outputId": "cabdfc2b-097a-41b8-9d89-fbedf63ef1b6"
      },
      "execution_count": 115,
      "outputs": [
        {
          "output_type": "execute_result",
          "data": {
            "text/plain": [
              "        Time        V1        V2        V3        V4        V5        V6  \\\n",
              "13847  24588 -2.878059  2.702684  0.370795 -1.836653 -0.291446 -0.063636   \n",
              "25720  33734  1.386725 -0.606973 -0.165294 -0.941099 -0.524494 -0.355473   \n",
              "24730  33355  0.543371 -0.872122  0.158282  1.577643 -0.609873  0.090597   \n",
              "28811  35172  1.242540  1.038273 -2.120796  1.225245  1.486180 -0.412049   \n",
              "23529  32803 -0.774519  0.948099  1.891155 -1.443315 -0.057959 -0.819604   \n",
              "\n",
              "             V7        V8        V9  ...       V21       V22       V23  \\\n",
              "13847 -0.111826 -0.498550  3.073931  ...  0.278879 -0.738700  0.198426   \n",
              "25720 -0.481989 -0.065100 -1.024421  ...  0.219095  0.446239 -0.253066   \n",
              "24730  0.259075  0.123713  0.202201  ...  0.123321 -0.177543 -0.289267   \n",
              "28811  0.446098  0.078068 -0.352031  ... -0.229004 -0.643843 -0.313630   \n",
              "23529  0.792902 -0.184547 -0.114821  ... -0.088090  0.055429 -0.108748   \n",
              "\n",
              "            V24       V25       V26       V27       V28  Amount  Class  \n",
              "13847 -0.378549  0.205618  0.766655  1.238997  0.663801    0.77    0.0  \n",
              "25720 -0.499811  0.688950 -0.082177 -0.019820 -0.004267   40.85    0.0  \n",
              "24730  0.207547  0.449587 -0.368520 -0.028090  0.055426  299.75    0.0  \n",
              "28811 -1.524499  0.848287 -0.203413  0.039089  0.067589    1.00    0.0  \n",
              "23529  0.594801 -0.341317  0.661488  0.204506  0.004865    1.31    0.0  \n",
              "\n",
              "[5 rows x 31 columns]"
            ],
            "text/html": [
              "\n",
              "  <div id=\"df-18570a94-34e1-44f0-8a70-0d4aaf8f5da9\">\n",
              "    <div class=\"colab-df-container\">\n",
              "      <div>\n",
              "<style scoped>\n",
              "    .dataframe tbody tr th:only-of-type {\n",
              "        vertical-align: middle;\n",
              "    }\n",
              "\n",
              "    .dataframe tbody tr th {\n",
              "        vertical-align: top;\n",
              "    }\n",
              "\n",
              "    .dataframe thead th {\n",
              "        text-align: right;\n",
              "    }\n",
              "</style>\n",
              "<table border=\"1\" class=\"dataframe\">\n",
              "  <thead>\n",
              "    <tr style=\"text-align: right;\">\n",
              "      <th></th>\n",
              "      <th>Time</th>\n",
              "      <th>V1</th>\n",
              "      <th>V2</th>\n",
              "      <th>V3</th>\n",
              "      <th>V4</th>\n",
              "      <th>V5</th>\n",
              "      <th>V6</th>\n",
              "      <th>V7</th>\n",
              "      <th>V8</th>\n",
              "      <th>V9</th>\n",
              "      <th>...</th>\n",
              "      <th>V21</th>\n",
              "      <th>V22</th>\n",
              "      <th>V23</th>\n",
              "      <th>V24</th>\n",
              "      <th>V25</th>\n",
              "      <th>V26</th>\n",
              "      <th>V27</th>\n",
              "      <th>V28</th>\n",
              "      <th>Amount</th>\n",
              "      <th>Class</th>\n",
              "    </tr>\n",
              "  </thead>\n",
              "  <tbody>\n",
              "    <tr>\n",
              "      <th>13847</th>\n",
              "      <td>24588</td>\n",
              "      <td>-2.878059</td>\n",
              "      <td>2.702684</td>\n",
              "      <td>0.370795</td>\n",
              "      <td>-1.836653</td>\n",
              "      <td>-0.291446</td>\n",
              "      <td>-0.063636</td>\n",
              "      <td>-0.111826</td>\n",
              "      <td>-0.498550</td>\n",
              "      <td>3.073931</td>\n",
              "      <td>...</td>\n",
              "      <td>0.278879</td>\n",
              "      <td>-0.738700</td>\n",
              "      <td>0.198426</td>\n",
              "      <td>-0.378549</td>\n",
              "      <td>0.205618</td>\n",
              "      <td>0.766655</td>\n",
              "      <td>1.238997</td>\n",
              "      <td>0.663801</td>\n",
              "      <td>0.77</td>\n",
              "      <td>0.0</td>\n",
              "    </tr>\n",
              "    <tr>\n",
              "      <th>25720</th>\n",
              "      <td>33734</td>\n",
              "      <td>1.386725</td>\n",
              "      <td>-0.606973</td>\n",
              "      <td>-0.165294</td>\n",
              "      <td>-0.941099</td>\n",
              "      <td>-0.524494</td>\n",
              "      <td>-0.355473</td>\n",
              "      <td>-0.481989</td>\n",
              "      <td>-0.065100</td>\n",
              "      <td>-1.024421</td>\n",
              "      <td>...</td>\n",
              "      <td>0.219095</td>\n",
              "      <td>0.446239</td>\n",
              "      <td>-0.253066</td>\n",
              "      <td>-0.499811</td>\n",
              "      <td>0.688950</td>\n",
              "      <td>-0.082177</td>\n",
              "      <td>-0.019820</td>\n",
              "      <td>-0.004267</td>\n",
              "      <td>40.85</td>\n",
              "      <td>0.0</td>\n",
              "    </tr>\n",
              "    <tr>\n",
              "      <th>24730</th>\n",
              "      <td>33355</td>\n",
              "      <td>0.543371</td>\n",
              "      <td>-0.872122</td>\n",
              "      <td>0.158282</td>\n",
              "      <td>1.577643</td>\n",
              "      <td>-0.609873</td>\n",
              "      <td>0.090597</td>\n",
              "      <td>0.259075</td>\n",
              "      <td>0.123713</td>\n",
              "      <td>0.202201</td>\n",
              "      <td>...</td>\n",
              "      <td>0.123321</td>\n",
              "      <td>-0.177543</td>\n",
              "      <td>-0.289267</td>\n",
              "      <td>0.207547</td>\n",
              "      <td>0.449587</td>\n",
              "      <td>-0.368520</td>\n",
              "      <td>-0.028090</td>\n",
              "      <td>0.055426</td>\n",
              "      <td>299.75</td>\n",
              "      <td>0.0</td>\n",
              "    </tr>\n",
              "    <tr>\n",
              "      <th>28811</th>\n",
              "      <td>35172</td>\n",
              "      <td>1.242540</td>\n",
              "      <td>1.038273</td>\n",
              "      <td>-2.120796</td>\n",
              "      <td>1.225245</td>\n",
              "      <td>1.486180</td>\n",
              "      <td>-0.412049</td>\n",
              "      <td>0.446098</td>\n",
              "      <td>0.078068</td>\n",
              "      <td>-0.352031</td>\n",
              "      <td>...</td>\n",
              "      <td>-0.229004</td>\n",
              "      <td>-0.643843</td>\n",
              "      <td>-0.313630</td>\n",
              "      <td>-1.524499</td>\n",
              "      <td>0.848287</td>\n",
              "      <td>-0.203413</td>\n",
              "      <td>0.039089</td>\n",
              "      <td>0.067589</td>\n",
              "      <td>1.00</td>\n",
              "      <td>0.0</td>\n",
              "    </tr>\n",
              "    <tr>\n",
              "      <th>23529</th>\n",
              "      <td>32803</td>\n",
              "      <td>-0.774519</td>\n",
              "      <td>0.948099</td>\n",
              "      <td>1.891155</td>\n",
              "      <td>-1.443315</td>\n",
              "      <td>-0.057959</td>\n",
              "      <td>-0.819604</td>\n",
              "      <td>0.792902</td>\n",
              "      <td>-0.184547</td>\n",
              "      <td>-0.114821</td>\n",
              "      <td>...</td>\n",
              "      <td>-0.088090</td>\n",
              "      <td>0.055429</td>\n",
              "      <td>-0.108748</td>\n",
              "      <td>0.594801</td>\n",
              "      <td>-0.341317</td>\n",
              "      <td>0.661488</td>\n",
              "      <td>0.204506</td>\n",
              "      <td>0.004865</td>\n",
              "      <td>1.31</td>\n",
              "      <td>0.0</td>\n",
              "    </tr>\n",
              "  </tbody>\n",
              "</table>\n",
              "<p>5 rows × 31 columns</p>\n",
              "</div>\n",
              "      <button class=\"colab-df-convert\" onclick=\"convertToInteractive('df-18570a94-34e1-44f0-8a70-0d4aaf8f5da9')\"\n",
              "              title=\"Convert this dataframe to an interactive table.\"\n",
              "              style=\"display:none;\">\n",
              "        \n",
              "  <svg xmlns=\"http://www.w3.org/2000/svg\" height=\"24px\"viewBox=\"0 0 24 24\"\n",
              "       width=\"24px\">\n",
              "    <path d=\"M0 0h24v24H0V0z\" fill=\"none\"/>\n",
              "    <path d=\"M18.56 5.44l.94 2.06.94-2.06 2.06-.94-2.06-.94-.94-2.06-.94 2.06-2.06.94zm-11 1L8.5 8.5l.94-2.06 2.06-.94-2.06-.94L8.5 2.5l-.94 2.06-2.06.94zm10 10l.94 2.06.94-2.06 2.06-.94-2.06-.94-.94-2.06-.94 2.06-2.06.94z\"/><path d=\"M17.41 7.96l-1.37-1.37c-.4-.4-.92-.59-1.43-.59-.52 0-1.04.2-1.43.59L10.3 9.45l-7.72 7.72c-.78.78-.78 2.05 0 2.83L4 21.41c.39.39.9.59 1.41.59.51 0 1.02-.2 1.41-.59l7.78-7.78 2.81-2.81c.8-.78.8-2.07 0-2.86zM5.41 20L4 18.59l7.72-7.72 1.47 1.35L5.41 20z\"/>\n",
              "  </svg>\n",
              "      </button>\n",
              "      \n",
              "  <style>\n",
              "    .colab-df-container {\n",
              "      display:flex;\n",
              "      flex-wrap:wrap;\n",
              "      gap: 12px;\n",
              "    }\n",
              "\n",
              "    .colab-df-convert {\n",
              "      background-color: #E8F0FE;\n",
              "      border: none;\n",
              "      border-radius: 50%;\n",
              "      cursor: pointer;\n",
              "      display: none;\n",
              "      fill: #1967D2;\n",
              "      height: 32px;\n",
              "      padding: 0 0 0 0;\n",
              "      width: 32px;\n",
              "    }\n",
              "\n",
              "    .colab-df-convert:hover {\n",
              "      background-color: #E2EBFA;\n",
              "      box-shadow: 0px 1px 2px rgba(60, 64, 67, 0.3), 0px 1px 3px 1px rgba(60, 64, 67, 0.15);\n",
              "      fill: #174EA6;\n",
              "    }\n",
              "\n",
              "    [theme=dark] .colab-df-convert {\n",
              "      background-color: #3B4455;\n",
              "      fill: #D2E3FC;\n",
              "    }\n",
              "\n",
              "    [theme=dark] .colab-df-convert:hover {\n",
              "      background-color: #434B5C;\n",
              "      box-shadow: 0px 1px 3px 1px rgba(0, 0, 0, 0.15);\n",
              "      filter: drop-shadow(0px 1px 2px rgba(0, 0, 0, 0.3));\n",
              "      fill: #FFFFFF;\n",
              "    }\n",
              "  </style>\n",
              "\n",
              "      <script>\n",
              "        const buttonEl =\n",
              "          document.querySelector('#df-18570a94-34e1-44f0-8a70-0d4aaf8f5da9 button.colab-df-convert');\n",
              "        buttonEl.style.display =\n",
              "          google.colab.kernel.accessAllowed ? 'block' : 'none';\n",
              "\n",
              "        async function convertToInteractive(key) {\n",
              "          const element = document.querySelector('#df-18570a94-34e1-44f0-8a70-0d4aaf8f5da9');\n",
              "          const dataTable =\n",
              "            await google.colab.kernel.invokeFunction('convertToInteractive',\n",
              "                                                     [key], {});\n",
              "          if (!dataTable) return;\n",
              "\n",
              "          const docLinkHtml = 'Like what you see? Visit the ' +\n",
              "            '<a target=\"_blank\" href=https://colab.research.google.com/notebooks/data_table.ipynb>data table notebook</a>'\n",
              "            + ' to learn more about interactive tables.';\n",
              "          element.innerHTML = '';\n",
              "          dataTable['output_type'] = 'display_data';\n",
              "          await google.colab.output.renderOutput(dataTable, element);\n",
              "          const docLink = document.createElement('div');\n",
              "          docLink.innerHTML = docLinkHtml;\n",
              "          element.appendChild(docLink);\n",
              "        }\n",
              "      </script>\n",
              "    </div>\n",
              "  </div>\n",
              "  "
            ]
          },
          "metadata": {},
          "execution_count": 115
        }
      ]
    },
    {
      "cell_type": "code",
      "source": [
        "new_df['Class'].value_counts()"
      ],
      "metadata": {
        "colab": {
          "base_uri": "https://localhost:8080/"
        },
        "id": "bKM5jIrsKuc9",
        "outputId": "6d12bbb8-64ea-4c7e-dec5-e9c2ded0de7d"
      },
      "execution_count": 116,
      "outputs": [
        {
          "output_type": "execute_result",
          "data": {
            "text/plain": [
              "0.0    102\n",
              "1.0    102\n",
              "Name: Class, dtype: int64"
            ]
          },
          "metadata": {},
          "execution_count": 116
        }
      ]
    },
    {
      "cell_type": "code",
      "source": [
        "new_df.groupby('Class').mean()"
      ],
      "metadata": {
        "colab": {
          "base_uri": "https://localhost:8080/",
          "height": 237
        },
        "id": "14o-NzxSKzpT",
        "outputId": "dabf59b2-c1e8-4cd9-80ac-6b70879a95a5"
      },
      "execution_count": 114,
      "outputs": [
        {
          "output_type": "execute_result",
          "data": {
            "text/plain": [
              "               Time        V1        V2         V3        V4        V5  \\\n",
              "Class                                                                    \n",
              "0.0    23926.637255 -0.144121  0.160171   0.658023  0.296444 -0.200729   \n",
              "1.0    20334.872549 -7.761095  5.946853 -11.035230  5.926171 -5.529543   \n",
              "\n",
              "             V6        V7        V8        V9  ...       V20       V21  \\\n",
              "Class                                          ...                       \n",
              "0.0    0.069859 -0.064950  0.074292  0.303328  ...  0.086842 -0.011979   \n",
              "1.0   -2.295415 -7.767215  3.904551 -2.997290  ...  0.679987  0.641900   \n",
              "\n",
              "            V22       V23       V24       V25       V26       V27       V28  \\\n",
              "Class                                                                         \n",
              "0.0   -0.155031 -0.040796 -0.021939  0.129880 -0.010175  0.054393  0.032632   \n",
              "1.0   -0.352131 -0.317568 -0.241053  0.314412  0.177056  0.811372  0.118708   \n",
              "\n",
              "          Amount  \n",
              "Class             \n",
              "0.0    82.633529  \n",
              "1.0    91.237451  \n",
              "\n",
              "[2 rows x 30 columns]"
            ],
            "text/html": [
              "\n",
              "  <div id=\"df-276157c1-6f6c-4ced-9c23-da44f388822e\">\n",
              "    <div class=\"colab-df-container\">\n",
              "      <div>\n",
              "<style scoped>\n",
              "    .dataframe tbody tr th:only-of-type {\n",
              "        vertical-align: middle;\n",
              "    }\n",
              "\n",
              "    .dataframe tbody tr th {\n",
              "        vertical-align: top;\n",
              "    }\n",
              "\n",
              "    .dataframe thead th {\n",
              "        text-align: right;\n",
              "    }\n",
              "</style>\n",
              "<table border=\"1\" class=\"dataframe\">\n",
              "  <thead>\n",
              "    <tr style=\"text-align: right;\">\n",
              "      <th></th>\n",
              "      <th>Time</th>\n",
              "      <th>V1</th>\n",
              "      <th>V2</th>\n",
              "      <th>V3</th>\n",
              "      <th>V4</th>\n",
              "      <th>V5</th>\n",
              "      <th>V6</th>\n",
              "      <th>V7</th>\n",
              "      <th>V8</th>\n",
              "      <th>V9</th>\n",
              "      <th>...</th>\n",
              "      <th>V20</th>\n",
              "      <th>V21</th>\n",
              "      <th>V22</th>\n",
              "      <th>V23</th>\n",
              "      <th>V24</th>\n",
              "      <th>V25</th>\n",
              "      <th>V26</th>\n",
              "      <th>V27</th>\n",
              "      <th>V28</th>\n",
              "      <th>Amount</th>\n",
              "    </tr>\n",
              "    <tr>\n",
              "      <th>Class</th>\n",
              "      <th></th>\n",
              "      <th></th>\n",
              "      <th></th>\n",
              "      <th></th>\n",
              "      <th></th>\n",
              "      <th></th>\n",
              "      <th></th>\n",
              "      <th></th>\n",
              "      <th></th>\n",
              "      <th></th>\n",
              "      <th></th>\n",
              "      <th></th>\n",
              "      <th></th>\n",
              "      <th></th>\n",
              "      <th></th>\n",
              "      <th></th>\n",
              "      <th></th>\n",
              "      <th></th>\n",
              "      <th></th>\n",
              "      <th></th>\n",
              "      <th></th>\n",
              "    </tr>\n",
              "  </thead>\n",
              "  <tbody>\n",
              "    <tr>\n",
              "      <th>0.0</th>\n",
              "      <td>23926.637255</td>\n",
              "      <td>-0.144121</td>\n",
              "      <td>0.160171</td>\n",
              "      <td>0.658023</td>\n",
              "      <td>0.296444</td>\n",
              "      <td>-0.200729</td>\n",
              "      <td>0.069859</td>\n",
              "      <td>-0.064950</td>\n",
              "      <td>0.074292</td>\n",
              "      <td>0.303328</td>\n",
              "      <td>...</td>\n",
              "      <td>0.086842</td>\n",
              "      <td>-0.011979</td>\n",
              "      <td>-0.155031</td>\n",
              "      <td>-0.040796</td>\n",
              "      <td>-0.021939</td>\n",
              "      <td>0.129880</td>\n",
              "      <td>-0.010175</td>\n",
              "      <td>0.054393</td>\n",
              "      <td>0.032632</td>\n",
              "      <td>82.633529</td>\n",
              "    </tr>\n",
              "    <tr>\n",
              "      <th>1.0</th>\n",
              "      <td>20334.872549</td>\n",
              "      <td>-7.761095</td>\n",
              "      <td>5.946853</td>\n",
              "      <td>-11.035230</td>\n",
              "      <td>5.926171</td>\n",
              "      <td>-5.529543</td>\n",
              "      <td>-2.295415</td>\n",
              "      <td>-7.767215</td>\n",
              "      <td>3.904551</td>\n",
              "      <td>-2.997290</td>\n",
              "      <td>...</td>\n",
              "      <td>0.679987</td>\n",
              "      <td>0.641900</td>\n",
              "      <td>-0.352131</td>\n",
              "      <td>-0.317568</td>\n",
              "      <td>-0.241053</td>\n",
              "      <td>0.314412</td>\n",
              "      <td>0.177056</td>\n",
              "      <td>0.811372</td>\n",
              "      <td>0.118708</td>\n",
              "      <td>91.237451</td>\n",
              "    </tr>\n",
              "  </tbody>\n",
              "</table>\n",
              "<p>2 rows × 30 columns</p>\n",
              "</div>\n",
              "      <button class=\"colab-df-convert\" onclick=\"convertToInteractive('df-276157c1-6f6c-4ced-9c23-da44f388822e')\"\n",
              "              title=\"Convert this dataframe to an interactive table.\"\n",
              "              style=\"display:none;\">\n",
              "        \n",
              "  <svg xmlns=\"http://www.w3.org/2000/svg\" height=\"24px\"viewBox=\"0 0 24 24\"\n",
              "       width=\"24px\">\n",
              "    <path d=\"M0 0h24v24H0V0z\" fill=\"none\"/>\n",
              "    <path d=\"M18.56 5.44l.94 2.06.94-2.06 2.06-.94-2.06-.94-.94-2.06-.94 2.06-2.06.94zm-11 1L8.5 8.5l.94-2.06 2.06-.94-2.06-.94L8.5 2.5l-.94 2.06-2.06.94zm10 10l.94 2.06.94-2.06 2.06-.94-2.06-.94-.94-2.06-.94 2.06-2.06.94z\"/><path d=\"M17.41 7.96l-1.37-1.37c-.4-.4-.92-.59-1.43-.59-.52 0-1.04.2-1.43.59L10.3 9.45l-7.72 7.72c-.78.78-.78 2.05 0 2.83L4 21.41c.39.39.9.59 1.41.59.51 0 1.02-.2 1.41-.59l7.78-7.78 2.81-2.81c.8-.78.8-2.07 0-2.86zM5.41 20L4 18.59l7.72-7.72 1.47 1.35L5.41 20z\"/>\n",
              "  </svg>\n",
              "      </button>\n",
              "      \n",
              "  <style>\n",
              "    .colab-df-container {\n",
              "      display:flex;\n",
              "      flex-wrap:wrap;\n",
              "      gap: 12px;\n",
              "    }\n",
              "\n",
              "    .colab-df-convert {\n",
              "      background-color: #E8F0FE;\n",
              "      border: none;\n",
              "      border-radius: 50%;\n",
              "      cursor: pointer;\n",
              "      display: none;\n",
              "      fill: #1967D2;\n",
              "      height: 32px;\n",
              "      padding: 0 0 0 0;\n",
              "      width: 32px;\n",
              "    }\n",
              "\n",
              "    .colab-df-convert:hover {\n",
              "      background-color: #E2EBFA;\n",
              "      box-shadow: 0px 1px 2px rgba(60, 64, 67, 0.3), 0px 1px 3px 1px rgba(60, 64, 67, 0.15);\n",
              "      fill: #174EA6;\n",
              "    }\n",
              "\n",
              "    [theme=dark] .colab-df-convert {\n",
              "      background-color: #3B4455;\n",
              "      fill: #D2E3FC;\n",
              "    }\n",
              "\n",
              "    [theme=dark] .colab-df-convert:hover {\n",
              "      background-color: #434B5C;\n",
              "      box-shadow: 0px 1px 3px 1px rgba(0, 0, 0, 0.15);\n",
              "      filter: drop-shadow(0px 1px 2px rgba(0, 0, 0, 0.3));\n",
              "      fill: #FFFFFF;\n",
              "    }\n",
              "  </style>\n",
              "\n",
              "      <script>\n",
              "        const buttonEl =\n",
              "          document.querySelector('#df-276157c1-6f6c-4ced-9c23-da44f388822e button.colab-df-convert');\n",
              "        buttonEl.style.display =\n",
              "          google.colab.kernel.accessAllowed ? 'block' : 'none';\n",
              "\n",
              "        async function convertToInteractive(key) {\n",
              "          const element = document.querySelector('#df-276157c1-6f6c-4ced-9c23-da44f388822e');\n",
              "          const dataTable =\n",
              "            await google.colab.kernel.invokeFunction('convertToInteractive',\n",
              "                                                     [key], {});\n",
              "          if (!dataTable) return;\n",
              "\n",
              "          const docLinkHtml = 'Like what you see? Visit the ' +\n",
              "            '<a target=\"_blank\" href=https://colab.research.google.com/notebooks/data_table.ipynb>data table notebook</a>'\n",
              "            + ' to learn more about interactive tables.';\n",
              "          element.innerHTML = '';\n",
              "          dataTable['output_type'] = 'display_data';\n",
              "          await google.colab.output.renderOutput(dataTable, element);\n",
              "          const docLink = document.createElement('div');\n",
              "          docLink.innerHTML = docLinkHtml;\n",
              "          element.appendChild(docLink);\n",
              "        }\n",
              "      </script>\n",
              "    </div>\n",
              "  </div>\n",
              "  "
            ]
          },
          "metadata": {},
          "execution_count": 114
        }
      ]
    },
    {
      "cell_type": "markdown",
      "source": [
        "Splitting the data into features & targets "
      ],
      "metadata": {
        "id": "HKlp9lidMara"
      }
    },
    {
      "cell_type": "code",
      "source": [
        "X = new_df.drop(columns='Class',axis=1)\n",
        "Y = new_df['Class']"
      ],
      "metadata": {
        "id": "uY_87_6pK-sR"
      },
      "execution_count": 117,
      "outputs": []
    },
    {
      "cell_type": "code",
      "source": [
        "print(X)"
      ],
      "metadata": {
        "colab": {
          "base_uri": "https://localhost:8080/"
        },
        "id": "j1r2WbX1MfXD",
        "outputId": "89dcffaf-d214-4c11-cc9e-cc524174a862"
      },
      "execution_count": 118,
      "outputs": [
        {
          "output_type": "stream",
          "name": "stdout",
          "text": [
            "        Time        V1        V2        V3        V4        V5        V6  \\\n",
            "13847  24588 -2.878059  2.702684  0.370795 -1.836653 -0.291446 -0.063636   \n",
            "25720  33734  1.386725 -0.606973 -0.165294 -0.941099 -0.524494 -0.355473   \n",
            "24730  33355  0.543371 -0.872122  0.158282  1.577643 -0.609873  0.090597   \n",
            "28811  35172  1.242540  1.038273 -2.120796  1.225245  1.486180 -0.412049   \n",
            "23529  32803 -0.774519  0.948099  1.891155 -1.443315 -0.057959 -0.819604   \n",
            "...      ...       ...       ...       ...       ...       ...       ...   \n",
            "30398  35906 -3.519030  4.140867 -3.628202  5.505672 -4.057463 -0.905945   \n",
            "30442  35926 -3.896583  4.518355 -4.454027  5.547453 -4.121459 -1.163407   \n",
            "30473  35942 -4.194074  4.382897 -5.118363  4.455230 -4.812621 -1.224645   \n",
            "30496  35953 -4.844372  5.649439 -6.730396  5.252842 -4.409566 -1.740767   \n",
            "31002  36170 -5.685013  5.776516 -7.064977  5.902715 -4.715564 -1.755633   \n",
            "\n",
            "             V7        V8        V9  ...       V20       V21       V22  \\\n",
            "13847 -0.111826 -0.498550  3.073931  ...  1.119457  0.278879 -0.738700   \n",
            "25720 -0.481989 -0.065100 -1.024421  ...  0.135630  0.219095  0.446239   \n",
            "24730  0.259075  0.123713  0.202201  ...  0.314292  0.123321 -0.177543   \n",
            "28811  0.446098  0.078068 -0.352031  ... -0.137125 -0.229004 -0.643843   \n",
            "23529  0.792902 -0.184547 -0.114821  ...  0.298207 -0.088090  0.055429   \n",
            "...         ...       ...       ...  ...       ...       ...       ...   \n",
            "30398 -6.652031  2.634524 -4.679402  ...  0.898723  1.582556  0.778710   \n",
            "30442 -6.805053  2.928356 -4.917130  ...  0.757287  1.691042  0.920021   \n",
            "30473 -7.281328  3.332250 -3.679659  ...  0.579098  1.550473  0.614573   \n",
            "30496 -6.311699  3.449167 -5.416284  ...  0.284555  1.194888 -0.845753   \n",
            "31002 -6.958679  3.877795 -5.541529  ...  0.299489  1.128641 -0.962960   \n",
            "\n",
            "            V23       V24       V25       V26       V27       V28  Amount  \n",
            "13847  0.198426 -0.378549  0.205618  0.766655  1.238997  0.663801    0.77  \n",
            "25720 -0.253066 -0.499811  0.688950 -0.082177 -0.019820 -0.004267   40.85  \n",
            "24730 -0.289267  0.207547  0.449587 -0.368520 -0.028090  0.055426  299.75  \n",
            "28811 -0.313630 -1.524499  0.848287 -0.203413  0.039089  0.067589    1.00  \n",
            "23529 -0.108748  0.594801 -0.341317  0.661488  0.204506  0.004865    1.31  \n",
            "...         ...       ...       ...       ...       ...       ...     ...  \n",
            "30398 -0.135707 -0.004278  0.032706  0.362014  0.900925  0.554897    9.13  \n",
            "30442 -0.151104  0.011007  0.080303  0.412191  0.635789  0.501050    4.56  \n",
            "30473  0.028521  0.013704 -0.149512 -0.131687  0.473934  0.473757   14.46  \n",
            "30496  0.190674 -0.216443 -0.325033 -0.270328  0.210214  0.391855  111.70  \n",
            "31002 -0.110045 -0.177733 -0.089175 -0.049447  0.303445  0.219380  111.70  \n",
            "\n",
            "[204 rows x 30 columns]\n"
          ]
        }
      ]
    },
    {
      "cell_type": "code",
      "source": [
        "print(Y)"
      ],
      "metadata": {
        "colab": {
          "base_uri": "https://localhost:8080/"
        },
        "id": "3Vw1AQhyMf1a",
        "outputId": "3eca3a96-cce1-4cc0-a250-91075ecb4855"
      },
      "execution_count": 119,
      "outputs": [
        {
          "output_type": "stream",
          "name": "stdout",
          "text": [
            "13847    0.0\n",
            "25720    0.0\n",
            "24730    0.0\n",
            "28811    0.0\n",
            "23529    0.0\n",
            "        ... \n",
            "30398    1.0\n",
            "30442    1.0\n",
            "30473    1.0\n",
            "30496    1.0\n",
            "31002    1.0\n",
            "Name: Class, Length: 204, dtype: float64\n"
          ]
        }
      ]
    },
    {
      "cell_type": "markdown",
      "source": [
        "Splitting the data into Training & Testing data"
      ],
      "metadata": {
        "id": "k4EYzFPAMq0o"
      }
    },
    {
      "cell_type": "code",
      "source": [
        "X_train, X_test, Y_train, Y_test = train_test_split(X, Y, test_size=0.2, stratify=Y, random_state=2)"
      ],
      "metadata": {
        "id": "sBKU7Y1LMkG3"
      },
      "execution_count": 120,
      "outputs": []
    },
    {
      "cell_type": "code",
      "source": [
        "print(X.shape,X_train.shape,X_test.shape)"
      ],
      "metadata": {
        "colab": {
          "base_uri": "https://localhost:8080/"
        },
        "id": "Hol4_bM4MvZ8",
        "outputId": "2532d5d3-da3e-41bd-8236-7e950fc3c5db"
      },
      "execution_count": 121,
      "outputs": [
        {
          "output_type": "stream",
          "name": "stdout",
          "text": [
            "(204, 30) (163, 30) (41, 30)\n"
          ]
        }
      ]
    },
    {
      "cell_type": "markdown",
      "source": [
        "we have 204 in our dataset 163 goes *to* training and the rest ( 4 ) to testing"
      ],
      "metadata": {
        "id": "S8iJYXjgNQDC"
      }
    },
    {
      "cell_type": "markdown",
      "source": [
        "Model Training \n",
        "\n",
        "Logistic Regression"
      ],
      "metadata": {
        "id": "dfLXP783Nkpe"
      }
    },
    {
      "cell_type": "code",
      "source": [
        "model = LogisticRegression()"
      ],
      "metadata": {
        "id": "A69LD3VDNst6"
      },
      "execution_count": 122,
      "outputs": []
    },
    {
      "cell_type": "code",
      "source": [
        "# Training the logistic regression model\n",
        "model.fit(X_train,Y_train)"
      ],
      "metadata": {
        "colab": {
          "base_uri": "https://localhost:8080/"
        },
        "id": "P0GNEQ8SNxPB",
        "outputId": "6e63086e-9cd4-4f21-cc55-8a455d92f9fc"
      },
      "execution_count": 123,
      "outputs": [
        {
          "output_type": "stream",
          "name": "stderr",
          "text": [
            "/usr/local/lib/python3.7/dist-packages/sklearn/linear_model/_logistic.py:818: ConvergenceWarning: lbfgs failed to converge (status=1):\n",
            "STOP: TOTAL NO. of ITERATIONS REACHED LIMIT.\n",
            "\n",
            "Increase the number of iterations (max_iter) or scale the data as shown in:\n",
            "    https://scikit-learn.org/stable/modules/preprocessing.html\n",
            "Please also refer to the documentation for alternative solver options:\n",
            "    https://scikit-learn.org/stable/modules/linear_model.html#logistic-regression\n",
            "  extra_warning_msg=_LOGISTIC_SOLVER_CONVERGENCE_MSG,\n"
          ]
        },
        {
          "output_type": "execute_result",
          "data": {
            "text/plain": [
              "LogisticRegression()"
            ]
          },
          "metadata": {},
          "execution_count": 123
        }
      ]
    },
    {
      "cell_type": "markdown",
      "source": [
        "Model Evaluation"
      ],
      "metadata": {
        "id": "90kBwceASHDB"
      }
    },
    {
      "cell_type": "code",
      "source": [
        "#Accuracy on training data\n",
        "X_train_prediction=model.predict(X_train)\n",
        "#compare value predicted by our model ( X_train_prediction ) with the original one in Y_train\n",
        "training_data_accuracy=accuracy_score(X_train_prediction,Y_train)"
      ],
      "metadata": {
        "id": "DwjwcYwfOQlB"
      },
      "execution_count": 125,
      "outputs": []
    },
    {
      "cell_type": "code",
      "source": [
        "print('The accuracy is : ', training_data_accuracy)"
      ],
      "metadata": {
        "colab": {
          "base_uri": "https://localhost:8080/"
        },
        "id": "abE7uAsOS0qB",
        "outputId": "5ce191ea-7862-4b6a-9268-d232ff793662"
      },
      "execution_count": 126,
      "outputs": [
        {
          "output_type": "stream",
          "name": "stdout",
          "text": [
            "The accuracy is :  0.9815950920245399\n"
          ]
        }
      ]
    },
    {
      "cell_type": "code",
      "source": [
        "#accuracy on test data \n",
        "X_test_prediction = model.predict(X_test)\n",
        "test_data_accuracy =accuracy_score(X_test_prediction,Y_test)"
      ],
      "metadata": {
        "id": "qisgYiaeTBHe"
      },
      "execution_count": 131,
      "outputs": []
    },
    {
      "cell_type": "code",
      "source": [
        "print('The accuracy is : ', test_data_accuracy )"
      ],
      "metadata": {
        "colab": {
          "base_uri": "https://localhost:8080/"
        },
        "id": "sJDVXXOtUGmc",
        "outputId": "8d7b70e6-bccc-46d2-c0b4-25ef56272c28"
      },
      "execution_count": 132,
      "outputs": [
        {
          "output_type": "stream",
          "name": "stdout",
          "text": [
            "The accuracy is :  0.9024390243902439\n"
          ]
        }
      ]
    },
    {
      "cell_type": "code",
      "source": [],
      "metadata": {
        "id": "Ge2vuKHrUTwN"
      },
      "execution_count": null,
      "outputs": []
    }
  ]
}